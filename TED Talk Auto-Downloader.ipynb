{
 "cells": [
  {
   "cell_type": "code",
   "execution_count": 1,
   "id": "ed42201f-3228-4e8a-b5e7-a4f6aa68df65",
   "metadata": {},
   "outputs": [],
   "source": [
    "import bs4\n",
    "import requests\n",
    "import html5lib"
   ]
  },
  {
   "cell_type": "code",
   "execution_count": 2,
   "id": "eeb7937f-ea26-4f6e-8a58-9ad33287cf7a",
   "metadata": {},
   "outputs": [],
   "source": [
    "import re"
   ]
  },
  {
   "cell_type": "code",
   "execution_count": 6,
   "id": "3d2e7445-a72c-43e6-9cd1-c31828719505",
   "metadata": {},
   "outputs": [],
   "source": [
    "response=requests.get('https://www.ted.com/talks/steven_johnson_how_humanity_doubled_life_expectancy_in_a_century')"
   ]
  },
  {
   "cell_type": "code",
   "execution_count": 10,
   "id": "8a82fba5-d22d-4731-abc4-97a4b1d73eb1",
   "metadata": {},
   "outputs": [],
   "source": [
    "soup=bs4.BeautifulSoup(response.content, 'html.parser')"
   ]
  },
  {
   "cell_type": "code",
   "execution_count": null,
   "id": "b480d1c4-3559-4d2c-8bcb-931460eaf0dc",
   "metadata": {},
   "outputs": [],
   "source": [
    "soup.prettify()"
   ]
  },
  {
   "cell_type": "code",
   "execution_count": 16,
   "id": "fd8a5b70-68f5-4f30-a4e9-dede322d37fc",
   "metadata": {},
   "outputs": [],
   "source": [
    "scripts=soup.find_all('script')"
   ]
  },
  {
   "cell_type": "code",
   "execution_count": 18,
   "id": "a7a394d9-9bdc-4de7-b117-7d8c0f85920f",
   "metadata": {},
   "outputs": [
    {
     "data": {
      "text/plain": [
       "20"
      ]
     },
     "execution_count": 18,
     "metadata": {},
     "output_type": "execute_result"
    }
   ],
   "source": [
    "len(scripts)"
   ]
  },
  {
   "cell_type": "code",
   "execution_count": 41,
   "id": "781625f5-8563-41f5-ba6c-2695aab9e938",
   "metadata": {
    "scrolled": true,
    "tags": []
   },
   "outputs": [],
   "source": [
    "for script in scripts:\n",
    "    if re.search(r'talkPage.init', str(script)) is not None:\n",
    "        val=str(script)"
   ]
  },
  {
   "cell_type": "code",
   "execution_count": null,
   "id": "30b2d041-378d-485d-8fdb-8e3677d580bd",
   "metadata": {
    "scrolled": true,
    "tags": []
   },
   "outputs": [],
   "source": [
    "val"
   ]
  },
  {
   "cell_type": "code",
   "execution_count": 83,
   "id": "7f7dec97-ea13-402b-b8c2-de2ec03c91be",
   "metadata": {},
   "outputs": [],
   "source": [
    "findings=re.findall( r'https://download.ted.com/products/\\d{1,}.mp4',val )"
   ]
  },
  {
   "cell_type": "code",
   "execution_count": 84,
   "id": "e5aee8b9-951e-4fd8-8e36-5e3f7a70c51b",
   "metadata": {},
   "outputs": [
    {
     "data": {
      "text/plain": [
       "['https://download.ted.com/products/134367.mp4',\n",
       " 'https://download.ted.com/products/134368.mp4',\n",
       " 'https://download.ted.com/products/134369.mp4',\n",
       " 'https://download.ted.com/products/134367.mp4',\n",
       " 'https://download.ted.com/products/134368.mp4',\n",
       " 'https://download.ted.com/products/134369.mp4']"
      ]
     },
     "execution_count": 84,
     "metadata": {},
     "output_type": "execute_result"
    }
   ],
   "source": [
    "findings"
   ]
  },
  {
   "cell_type": "code",
   "execution_count": 86,
   "id": "7c30f34f-90cc-4964-8855-a5b028dbe9af",
   "metadata": {},
   "outputs": [
    {
     "name": "stdout",
     "output_type": "stream",
     "text": [
      "Download Process finished\n"
     ]
    }
   ],
   "source": [
    "for i,finding in enumerate(findings):\n",
    "    r=requests.get(finding)\n",
    "    filename=\"file_\"+str(i)\n",
    "    f= open(filename, 'wb')\n",
    "    f.write(r.content)\n",
    "\n",
    "\n",
    "print(\"Download Process finished\")"
   ]
  },
  {
   "cell_type": "code",
   "execution_count": null,
   "id": "2aaf7417-f7fb-4567-a4be-bd0c1c33f693",
   "metadata": {},
   "outputs": [],
   "source": []
  },
  {
   "cell_type": "raw",
   "id": "3ec98156-67b9-4e99-be80-a1b0ccccacf2",
   "metadata": {},
   "source": [
    "\"https://download.ted.com/products/134367.mp4"
   ]
  }
 ],
 "metadata": {
  "kernelspec": {
   "display_name": "Python 3",
   "language": "python",
   "name": "python3"
  },
  "language_info": {
   "codemirror_mode": {
    "name": "ipython",
    "version": 3
   },
   "file_extension": ".py",
   "mimetype": "text/x-python",
   "name": "python",
   "nbconvert_exporter": "python",
   "pygments_lexer": "ipython3",
   "version": "3.8.5"
  }
 },
 "nbformat": 4,
 "nbformat_minor": 5
}
