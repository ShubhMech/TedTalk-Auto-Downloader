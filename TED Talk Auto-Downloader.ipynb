{
 "cells": [
  {
   "cell_type": "code",
   "execution_count": 1,
   "id": "ed42201f-3228-4e8a-b5e7-a4f6aa68df65",
   "metadata": {},
   "outputs": [],
   "source": [
    "import bs4\n",
    "import requests\n",
    "import html5lib"
   ]
  },
  {
   "cell_type": "code",
   "execution_count": 2,
   "id": "eeb7937f-ea26-4f6e-8a58-9ad33287cf7a",
   "metadata": {},
   "outputs": [],
   "source": [
    "import re"
   ]
  },
  {
   "cell_type": "code",
   "execution_count": 6,
   "id": "3d2e7445-a72c-43e6-9cd1-c31828719505",
   "metadata": {},
   "outputs": [],
   "source": [
    "response=requests.get('https://www.ted.com/talks/steven_johnson_how_humanity_doubled_life_expectancy_in_a_century')"
   ]
  },
  {
   "cell_type": "code",
   "execution_count": 10,
   "id": "8a82fba5-d22d-4731-abc4-97a4b1d73eb1",
   "metadata": {},
   "outputs": [],
   "source": [
    "soup=bs4.BeautifulSoup(response.content, 'html.parser')"
   ]
  },
  {
   "cell_type": "code",
   "execution_count": null,
   "id": "b480d1c4-3559-4d2c-8bcb-931460eaf0dc",
   "metadata": {},
   "outputs": [],
   "source": [
    "soup.prettify()"
   ]
  },
  {
   "cell_type": "code",
   "execution_count": 16,
   "id": "fd8a5b70-68f5-4f30-a4e9-dede322d37fc",
   "metadata": {},
   "outputs": [],
   "source": [
    "scripts=soup.find_all('script')"
   ]
  },
  {
   "cell_type": "code",
   "execution_count": 18,
   "id": "a7a394d9-9bdc-4de7-b117-7d8c0f85920f",
   "metadata": {},
   "outputs": [
    {
     "data": {
      "text/plain": [
       "20"
      ]
     },
     "execution_count": 18,
     "metadata": {},
     "output_type": "execute_result"
    }
   ],
   "source": [
    "len(scripts)"
   ]
  },
  {
   "cell_type": "code",
   "execution_count": 41,
   "id": "781625f5-8563-41f5-ba6c-2695aab9e938",
   "metadata": {
    "scrolled": true,
    "tags": []
   },
   "outputs": [],
   "source": [
    "for script in scripts:\n",
    "    if re.search(r'talkPage.init', str(script)) is not None:\n",
    "        val=str(script)"
   ]
  },
  {
   "cell_type": "code",
   "execution_count": 56,
   "id": "788eea78-dd50-4737-a040-9ccc251a84ab",
   "metadata": {},
   "outputs": [
    {
     "data": {
      "text/plain": [
       "'https://download.ted.com/products/134367.mp4?'"
      ]
     },
     "execution_count": 56,
     "metadata": {},
     "output_type": "execute_result"
    }
   ],
   "source": [
    "\"https://download.ted.com/products/134367.mp4?\""
   ]
  },
  {
   "cell_type": "code",
   "execution_count": 70,
   "id": "30b2d041-378d-485d-8fdb-8e3677d580bd",
   "metadata": {
    "scrolled": true,
    "tags": []
   },
   "outputs": [
    {
     "data": {
      "text/plain": [
       "'<script data-spec=\"q\">q(\"talkPage.init\",{\"el\":\"[data-talk-page]\",\"__INITIAL_DATA__\":{\"requested_language_english_name\":\"English\",\"current_talk\":\"80827\",\"description\":\"Doubling human life expectancy in a century is our greatest achievement, says author Steven Johnson. How did we make it happen -- and can we keep it going? Backed by fascinating historical anecdotes, he shares some life-lengthening innovations and reminds us of three key things needed to make sure all of humanity enjoys these advancements in health.\",\"event\":\"TEDMonterey\",\"language\":\"en\",\"language_swap\":false,\"name\":\"Steven Johnson: How humanity doubled life expectancy in a century\",\"slug\":\"steven_johnson_how_humanity_doubled_life_expectancy_in_a_century\",\"series_slug\":null,\"speakers\":[{\"id\":\"68\",\"slug\":\"steven_johnson\",\"is_published\":true,\"firstname\":\"Steven\",\"lastname\":\"Johnson\",\"middleinitial\":\"\",\"title\":\"\",\"description\":\"Writer\",\"photo_url\":\"https://pe.tedcdn.com/images/ted/0df94501c78d40b78a1235cba342c65efdeac914_254x191.jpg\",\"whatotherssay\":\"\",\"whotheyare\":\"Steven Johnson is a leading authority on innovation and the bestselling author of 13 books about history of health, medicine and technology.\",\"whylisten\":\"<p>Called a &quot;gifted storyteller and deep thinker&quot; by the <em>New York Times</em>, Steven Johnson is a leading authority on innovation. His books, podcasts and television series have explored the stories of some of the most crucial breakthroughs in the history of health, medicine and technology. He is the bestselling author of 13 books, including&nbsp;<a href=\\\\\"https://geni.us/vHcdc\\\\\" target=\\\\\"_blank\\\\\"><em>The Ghost Map</em></a>, his acclaimed study of the 1854 cholera epidemic, and&nbsp;<a href=\\\\\"https://geni.us/xQx7n1r\\\\\" target=\\\\\"_blank\\\\\"><em>Where Good Ideas Come From</em></a>. He also hosted and co-created the Emmy Award-winning PBS/BBC series&nbsp;<a href=\\\\\"https://www.pbs.org/show/how-we-got-now/\\\\\" target=\\\\\"_blank\\\\\"><em>How We Got To Now</em></a>&nbsp;and&nbsp;is the current host of the podcast&nbsp;<em><a href=\\\\\"https://wondery.com/shows/american-innovations/\\\\\" target=\\\\\"_blank\\\\\">American Innovations</a></em>. He writes regularly for the <em>New York Times Magazine</em> and <em>WIRED</em>. He lives in Brooklyn, New York, and Marin County, California, with his wife and three sons.&nbsp;</p>\"}],\"url\":\"https://www.ted.com/talks/steven_johnson_how_humanity_doubled_life_expectancy_in_a_century\",\"viewed_count\":292084,\"talks\":[{\"recommendations\":{\"status\":\"approved\",\"headline\":\"Steven Johnson recommends\",\"blurb\":\"More resources curated by Steven Johnson\",\"start_at\":null,\"end_at\":null,\"published\":true,\"eyebrow\":\"\",\"type\":\"recommendation\",\"rec_lists\":[{\"title\":\"\",\"description\":\"\",\"rec_items\":[{\"label\":\"READ_Book\",\"headline\":\"*Extra Life: A Short History Of Living Longer*\",\"blurb\":\"An in-depth look at the social movements, scientific breakthroughs and forgotten heroes who doubled human life expectancy in one century.\",\"note\":\"Steven Johnson\\\\r\\\\nRiverhead Books, 2021\",\"link_url\":\"https://www.amazon.com/Extra-Life-History-Living-Longer/dp/0525538852/ref=as_li_tf_tl?ie=UTF8&camp=1789&creative=9325&creativeASIN=0520271440&linkCode=as2&tag=teco06-20\",\"position\":null,\"is_pdf\":false,\"eyebrow\":\"\"},{\"label\":\"WATCH\",\"headline\":\"*Extra Life*\",\"blurb\":\"A four-part PBS/BBC series, cohosted by Steven Johnson and David Olusoga, that traces the history of extending human life in the present-day context of the COVID crisis. (Also available on the BBC iPlayer.) \",\"note\":\"Steven Johnson, David Olusoga\\\\r\\\\nPBS/BBC, 2021\",\"link_url\":\"https://www.pbs.org/show/extra-life-short-history-living-longer/\",\"position\":null,\"is_pdf\":false,\"eyebrow\":\"\"},{\"label\":\"READ_Article\",\"headline\":\"\\\\\"The Living Century\\\\\"\",\"blurb\":\"Lesson plans based on the Extra Life project exploring the causes and impacts of medical innovation on human life expectancy, curated by the Pulitzer Center.\",\"note\":\"Steven Johnson\\\\r\\\\nPulitzer Center, 2021\",\"link_url\":\"\",\"position\":null,\"is_pdf\":false,\"eyebrow\":\"\"},{\"label\":\"EXPLORE\",\"headline\":\"Our World in Data: Life Expectancy\",\"blurb\":\"An invaluable source of demographic data, infographics and short essays showing the remarkable scale of the revolution in human life expectancy over the past few centuries.\",\"note\":\"Max Roser, Esteban Ortiz-Ospina and Hannah Ritchie\\\\r\\\\nOur World in Data, 2019\",\"link_url\":\"https://ourworldindata.org/life-expectancy\",\"position\":null,\"is_pdf\":false,\"eyebrow\":\"\"},{\"label\":\"EXPLORE\",\"headline\":\"\\\\\"Life Expectancy: Could where you live influence how long you live?\\\\\"\",\"blurb\":\"An interactive feature that shows average life expectancy in the US by zip code, created by the Robert Wood Johnson Foundation.\",\"note\":\"Robert Wood Johnson Foundation, 2021\",\"link_url\":\"https://www.rwjf.org/en/library/interactives/whereyouliveaffectshowlongyoulive.html\",\"position\":null,\"is_pdf\":false,\"eyebrow\":\"\"}]}]},\"more_resources\":[{\"status\":\"approved\",\"headline\":\"*Extra Life: A Short History of Living Longer*\",\"blurb\":null,\"link_url\":\"https://www.amazon.com/Extra-Life-History-Living-Longer/dp/0525538852/ref=as_li_tf_tl?ie=UTF8&camp=1789&creative=9325&creativeASIN=0520271440&linkCode=as2&tag=teco06-20\",\"image_url\":\"https://pe.tedcdn.com/images/ted/4881aacfc8bc6cb72fbf5f39feb5c7f1a53adb8c_1696x2560.jpg\",\"author\":\"Steven Johnson\",\"year\":\"2021\",\"publisher\":\"Riverhead Books\",\"start_at\":null,\"end_at\":null,\"published\":true,\"eyebrow\":\"\",\"type\":\"book\"}],\"corrections\":[],\"has_citations\":false,\"take_action\":[{\"status\":\"approved\",\"blurb\":\"**Subscribe** to Adjacent Possible, a newsletter from Steven Johnson exploring where good ideas come from -- and how to keep them from turning against us.\",\"link_url\":\"https://adjacentpossible.substack.com/\",\"visible_url\":\"adjacentpossible.substack.com\",\"start_at\":null,\"end_at\":null,\"published\":true,\"eyebrow\":null,\"type\":\"take_action\",\"verb\":\"subscribe\"}],\"explore_cta_experiment\":{},\"curator_approved\":true,\"description\":\"Doubling human life expectancy in a century is our greatest achievement, says author Steven Johnson. How did we make it happen -- and can we keep it going? Backed by fascinating historical anecdotes, he shares some life-lengthening innovations and reminds us of three key things needed to make sure all of humanity enjoys these advancements in health.\",\"downloads\":{\"id\":80827,\"languages\":[{\"languageName\":\"English\",\"endonym\":\"English\",\"languageCode\":\"en\",\"ianaCode\":\"en\",\"isRtl\":false}],\"nativeDownloads\":{\"low\":\"https://download.ted.com/products/134367.mp4?apikey=acme-roadrunner\",\"medium\":\"https://download.ted.com/products/134368.mp4?apikey=acme-roadrunner\",\"high\":\"https://download.ted.com/products/134369.mp4?apikey=acme-roadrunner\"},\"subtitledDownloads\":null,\"videoDownloads\":[{\"url\":\"https://download.ted.com/products/134367.mp4?apikey=acme-roadrunner\",\"height\":180,\"languages\":[{\"code\":\"en\",\"name\":\"English\"}]},{\"url\":\"https://download.ted.com/products/134368.mp4?apikey=acme-roadrunner\",\"height\":480,\"languages\":[{\"code\":\"en\",\"name\":\"English\"}]},{\"url\":\"https://download.ted.com/products/134369.mp4?apikey=acme-roadrunner\",\"height\":1080,\"languages\":[{\"code\":\"en\",\"name\":\"English\"}]}],\"audioDownload\":\"https://download.ted.com/talks/StevenJohnson_2021.mp3?apikey=acme-roadrunner\"},\"duration\":829,\"event\":\"TEDMonterey\",\"institute_partner_name\":null,\"salon_partner_name\":null,\"event_badge\":null,\"is_featured\":true,\"hero\":\"https://s3.amazonaws.com/talkstar-photos/uploads/a363f662-551f-4405-b3eb-ab1e5db30da0/StevenJohnson_2021-embed.jpg\",\"hero_load\":\"https://pi.tedcdn.com/r/talkstar-photos.s3.amazonaws.com/uploads/a363f662-551f-4405-b3eb-ab1e5db30da0/StevenJohnson_2021-embed.jpg?q=50&w=15\",\"id\":\"80827\",\"player_talks\":[{\"id\":\"80827\",\"mediaIdentifier\":\"StevenJohnson_2021\",\"mediaProjectVersionIdentifier\":\"consus-pm6949\",\"duration\":829,\"languages\":[{\"languageName\":\"English\",\"endonym\":\"English\",\"languageCode\":\"en\",\"ianaCode\":\"en\",\"isRtl\":false}],\"nativeLanguage\":\"en\",\"isSubtitleRequired\":false,\"resources\":{\"h264\":[{\"bitrate\":1200,\"file\":\"https://py.tedcdn.com/consus/projects/00/55/15/002/products/2021-steven-johnson-002-fallback-8dde42e30549d6d8a1897dabff7ba87e-1200k.mp4\"}],\"hls\":{\"adUrl\":\"https://pubads.g.doubleclick.net/gampad/ads?ciu_szs=300x250%2C512x288%2C120x60%2C320x50%2C6x7%2C6x8&correlator=%5Bcorrelator%5D&cust_params=event%3DTEDMonterey%26id%3D80827%26tag%3Dhistory%2Chealth%2Cpublic%2Bhealth%2Chealth%2Bcare%2Cinnovation%2Cmedicine%2Cscience%2Csociety%2Csocial%2Bchange%2Ctechnology%2Chuman%2Bbody%26talk%3Dsteven_johnson_how_humanity_doubled_life_expectancy_in_a_century%26year%3D2021&env=vp&gdfp_req=1&impl=s&iu=%2F5641%2Fmobile%2Fios%2Fweb&output=xml_vast2&sz=640x360&unviewed_position_start=1&url=%5Breferrer%5D\",\"maiTargeting\":{\"id\":\"80827\",\"talk\":\"steven_johnson_how_humanity_doubled_life_expectancy_in_a_century\",\"tag\":\"history,health,public health,health care,innovation,medicine,science,society,social change,technology,human body\",\"year\":\"2021\",\"event\":\"TEDMonterey\"},\"stream\":\"https://hls.ted.com/project_masters/6949/manifest.m3u8\",\"metadata\":\"https://hls.ted.com/project_masters/6949/metadata.json\"}},\"targeting\":{\"id\":\"80827\",\"talk\":\"steven_johnson_how_humanity_doubled_life_expectancy_in_a_century\",\"tag\":\"history,health,public health,health care,innovation,medicine,science,society,social change,technology,human body\",\"year\":\"2021\",\"event\":\"TEDMonterey\"},\"canonical\":\"https://www.ted.com/talks/steven_johnson_how_humanity_doubled_life_expectancy_in_a_century\",\"name\":\"Steven Johnson: How humanity doubled life expectancy in a century\",\"title\":\"How humanity doubled life expectancy in a century\",\"speaker\":\"Steven Johnson\",\"thumb\":\"https://pi.tedcdn.com/r/talkstar-photos.s3.amazonaws.com/uploads/a363f662-551f-4405-b3eb-ab1e5db30da0/StevenJohnson_2021-embed.jpg?quality=89&w=600\",\"slug\":\"steven_johnson_how_humanity_doubled_life_expectancy_in_a_century\",\"event\":\"TEDMonterey\",\"published\":1633704823}],\"recorded_at\":\"2021-08-03T00:00:00.000+00:00\",\"related_talks\":[{\"id\":\"2630\",\"hero\":\"https://s3.amazonaws.com/talkstar-photos/uploads/722585fb-b09a-42f2-9f84-bf0d410667a9/StevenJohnson_2016V-embed.jpg\",\"speaker\":\"Steven Johnson\",\"title\":\"The playful wonderland behind great inventions\",\"duration\":445,\"slug\":\"steven_johnson_the_playful_wonderland_behind_great_inventions\",\"viewed_count\":1440543},{\"id\":\"64354\",\"hero\":\"https://s3.amazonaws.com/talkstar-photos/uploads/6b9cd419-031b-4435-affd-95834d86f4a4/KatherineEban_2020P-embed.jpg\",\"speaker\":\"Katherine Eban\",\"title\":\"A dose of reality about generic drugs\",\"duration\":999,\"slug\":\"katherine_eban_a_dose_of_reality_about_generic_drugs\",\"viewed_count\":394534},{\"id\":\"77211\",\"hero\":\"https://s3.amazonaws.com/talkstar-photos/uploads/aebe2b0d-d48b-4bfb-b954-9addd29c9c0a/BodyStuff_2021V_E04-embed.jpg\",\"speaker\":\"Jen Gunter\",\"title\":\"Why healthy bones are about so much more than milk\",\"duration\":215,\"slug\":\"jen_gunter_why_healthy_bones_are_about_so_much_more_than_milk\",\"viewed_count\":353894},{\"id\":\"64835\",\"hero\":\"https://s3.amazonaws.com/talkstar-photos/uploads/0307ff2d-f80b-4199-81dc-acb0f95ef4b3/BillGates_2020S_embed.jpg\",\"speaker\":\"Bill Gates\",\"title\":\"How the pandemic will shape the near future\",\"duration\":2587,\"slug\":\"bill_gates_how_the_pandemic_will_shape_the_near_future\",\"viewed_count\":4567947},{\"id\":\"28\",\"hero\":\"https://s3.amazonaws.com/talkstar-photos/uploads/71248838-c017-47f6-9dbb-217652b5a70f/SethGodin_2003-embed.jpg\",\"speaker\":\"Seth Godin\",\"title\":\"How to get your ideas to spread\",\"duration\":1021,\"slug\":\"seth_godin_how_to_get_your_ideas_to_spread\",\"viewed_count\":7105262},{\"id\":\"15274\",\"hero\":\"https://s3.amazonaws.com/talkstar-photos/uploads/5a9b0b43-5475-44d1-b3df-507da4471e61/StevenPinker_2018-embed.jpg\",\"speaker\":\"Steven Pinker\",\"title\":\"Is the world getting better or worse? A look at the numbers\",\"duration\":1112,\"slug\":\"steven_pinker_is_the_world_getting_better_or_worse_a_look_at_the_numbers\",\"viewed_count\":4333672}],\"slug\":\"steven_johnson_how_humanity_doubled_life_expectancy_in_a_century\",\"speakers\":[{\"id\":\"68\",\"slug\":\"steven_johnson\",\"is_published\":true,\"firstname\":\"Steven\",\"lastname\":\"Johnson\",\"middleinitial\":\"\",\"title\":\"\",\"description\":\"Writer\",\"photo_url\":\"https://pe.tedcdn.com/images/ted/0df94501c78d40b78a1235cba342c65efdeac914_254x191.jpg\",\"whatotherssay\":\"\",\"whotheyare\":\"Steven Johnson is a leading authority on innovation and the bestselling author of 13 books about history of health, medicine and technology.\",\"whylisten\":\"<p>Called a &quot;gifted storyteller and deep thinker&quot; by the <em>New York Times</em>, Steven Johnson is a leading authority on innovation. His books, podcasts and television series have explored the stories of some of the most crucial breakthroughs in the history of health, medicine and technology. He is the bestselling author of 13 books, including&nbsp;<a href=\\\\\"https://geni.us/vHcdc\\\\\" target=\\\\\"_blank\\\\\"><em>The Ghost Map</em></a>, his acclaimed study of the 1854 cholera epidemic, and&nbsp;<a href=\\\\\"https://geni.us/xQx7n1r\\\\\" target=\\\\\"_blank\\\\\"><em>Where Good Ideas Come From</em></a>. He also hosted and co-created the Emmy Award-winning PBS/BBC series&nbsp;<a href=\\\\\"https://www.pbs.org/show/how-we-got-now/\\\\\" target=\\\\\"_blank\\\\\"><em>How We Got To Now</em></a>&nbsp;and&nbsp;is the current host of the podcast&nbsp;<em><a href=\\\\\"https://wondery.com/shows/american-innovations/\\\\\" target=\\\\\"_blank\\\\\">American Innovations</a></em>. He writes regularly for the <em>New York Times Magazine</em> and <em>WIRED</em>. He lives in Brooklyn, New York, and Marin County, California, with his wife and three sons.&nbsp;</p>\"}],\"speaker_name\":\"Steven Johnson\",\"tags\":[\"history\",\"health\",\"public health\",\"health care\",\"innovation\",\"medicine\",\"science\",\"society\",\"social change\",\"technology\",\"human body\"],\"title\":\"How humanity doubled life expectancy in a century\",\"video_type\":{\"id\":\"1\",\"name\":\"TED Stage Talk\"},\"viewed_count\":292084}]}})</script>'"
      ]
     },
     "execution_count": 70,
     "metadata": {},
     "output_type": "execute_result"
    }
   ],
   "source": [
    "val"
   ]
  },
  {
   "cell_type": "code",
   "execution_count": 83,
   "id": "7f7dec97-ea13-402b-b8c2-de2ec03c91be",
   "metadata": {},
   "outputs": [],
   "source": [
    "findings=re.findall( r'https://download.ted.com/products/\\d{1,}.mp4',val )"
   ]
  },
  {
   "cell_type": "code",
   "execution_count": 84,
   "id": "e5aee8b9-951e-4fd8-8e36-5e3f7a70c51b",
   "metadata": {},
   "outputs": [
    {
     "data": {
      "text/plain": [
       "['https://download.ted.com/products/134367.mp4',\n",
       " 'https://download.ted.com/products/134368.mp4',\n",
       " 'https://download.ted.com/products/134369.mp4',\n",
       " 'https://download.ted.com/products/134367.mp4',\n",
       " 'https://download.ted.com/products/134368.mp4',\n",
       " 'https://download.ted.com/products/134369.mp4']"
      ]
     },
     "execution_count": 84,
     "metadata": {},
     "output_type": "execute_result"
    }
   ],
   "source": [
    "findings"
   ]
  },
  {
   "cell_type": "code",
   "execution_count": 86,
   "id": "7c30f34f-90cc-4964-8855-a5b028dbe9af",
   "metadata": {},
   "outputs": [
    {
     "name": "stdout",
     "output_type": "stream",
     "text": [
      "Download Process finished\n"
     ]
    }
   ],
   "source": [
    "for i,finding in enumerate(findings):\n",
    "    r=requests.get(finding)\n",
    "    filename=\"file_\"+str(i)\n",
    "    f= open(filename, 'wb')\n",
    "    f.write(r.content)\n",
    "\n",
    "\n",
    "print(\"Download Process finished\")"
   ]
  },
  {
   "cell_type": "code",
   "execution_count": null,
   "id": "2aaf7417-f7fb-4567-a4be-bd0c1c33f693",
   "metadata": {},
   "outputs": [],
   "source": []
  },
  {
   "cell_type": "raw",
   "id": "3ec98156-67b9-4e99-be80-a1b0ccccacf2",
   "metadata": {},
   "source": [
    "\"https://download.ted.com/products/134367.mp4"
   ]
  }
 ],
 "metadata": {
  "kernelspec": {
   "display_name": "Python 3",
   "language": "python",
   "name": "python3"
  },
  "language_info": {
   "codemirror_mode": {
    "name": "ipython",
    "version": 3
   },
   "file_extension": ".py",
   "mimetype": "text/x-python",
   "name": "python",
   "nbconvert_exporter": "python",
   "pygments_lexer": "ipython3",
   "version": "3.8.5"
  }
 },
 "nbformat": 4,
 "nbformat_minor": 5
}
